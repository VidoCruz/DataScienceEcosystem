{
 "cells": [
  {
   "cell_type": "markdown",
   "id": "425c3915-0187-4f70-aed8-2459cf3ccbf6",
   "metadata": {},
   "source": [
    "# Data Science Tools and Ecosystem"
   ]
  },
  {
   "cell_type": "markdown",
   "id": "327eee31",
   "metadata": {},
   "source": [
    "    In this notebook, Data Science Tools and Ecosystem are summarized."
   ]
  },
  {
   "cell_type": "markdown",
   "id": "9dd89a10",
   "metadata": {},
   "source": [
    "**Objectives**\n",
    "+ List popular languages for Data Science\n",
    "+ List Common libraries in Data Science\n",
    "+ List Data Science Tools\n",
    "+ Display a simple arithmetic expression"
   ]
  },
  {
   "cell_type": "markdown",
   "id": "feea0b43",
   "metadata": {},
   "source": [
    "Some of the popular languages that Data Scientists use are:\n",
    "1. Python\n",
    "2. R language\n",
    "3. SQL\n",
    "4. Scala\n",
    "5. Java"
   ]
  },
  {
   "cell_type": "markdown",
   "id": "de6a748f",
   "metadata": {},
   "source": [
    "Some of the commonly used libraries used by Data Scientists include:\n",
    "1. Pandas\n",
    "2. NumPy\n",
    "3. MatPlotLib\n",
    "4. Scikit-Learn\n"
   ]
  },
  {
   "cell_type": "markdown",
   "id": "a32eed9a",
   "metadata": {},
   "source": [
    "|Data Science Tools|\n",
    "|------------------|\n",
    "|Jupyter           |\n",
    "|Apache Zeppelin   |\n",
    "|RStudio           |"
   ]
  },
  {
   "cell_type": "markdown",
   "id": "e0664d2f",
   "metadata": {},
   "source": [
    "### Below are a few examples of evaluating arithmetics expressions in Python"
   ]
  },
  {
   "cell_type": "code",
   "execution_count": 3,
   "id": "e88f298b",
   "metadata": {},
   "outputs": [
    {
     "data": {
      "text/plain": [
       "17"
      ]
     },
     "execution_count": 3,
     "metadata": {},
     "output_type": "execute_result"
    }
   ],
   "source": [
    "## This a simple arithmetic expression to mutiply then add integers\n",
    "\n",
    "(3*4)+5\n"
   ]
  },
  {
   "cell_type": "code",
   "execution_count": 4,
   "id": "b55b1356",
   "metadata": {},
   "outputs": [
    {
     "data": {
      "text/plain": [
       "3.3333333333333335"
      ]
     },
     "execution_count": 4,
     "metadata": {},
     "output_type": "execute_result"
    }
   ],
   "source": [
    "## This will convert 200 minutes to hours by diving by 60\n",
    "\n",
    "200/60"
   ]
  },
  {
   "cell_type": "markdown",
   "id": "317b2181",
   "metadata": {},
   "source": [
    "## Author\n",
    "Olanrewaju David"
   ]
  },
  {
   "cell_type": "code",
   "execution_count": null,
   "id": "2e34bc3b",
   "metadata": {},
   "outputs": [],
   "source": []
  }
 ],
 "metadata": {
  "kernelspec": {
   "display_name": "Python 3 (ipykernel)",
   "language": "python",
   "name": "python3"
  },
  "language_info": {
   "codemirror_mode": {
    "name": "ipython",
    "version": 3
   },
   "file_extension": ".py",
   "mimetype": "text/x-python",
   "name": "python",
   "nbconvert_exporter": "python",
   "pygments_lexer": "ipython3",
   "version": "3.10.9"
  }
 },
 "nbformat": 4,
 "nbformat_minor": 5
}
